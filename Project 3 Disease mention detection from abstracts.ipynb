{
 "cells": [
  {
   "cell_type": "markdown",
   "id": "cd30092d-eee1-4312-9092-7ae59d10785f",
   "metadata": {},
   "source": [
    "# Disease Mention Detection from Medical Abstracts\n",
    "This project demonstrates how to programmatically collect medical research articles, filter for relevant content, and build a text classification model for disease mention detection. Using COVID-19 as an example, the workflow can easily be adapted to detect mentions of other diseases such as influenza, malaria, or dengue."
   ]
  },
  {
   "cell_type": "markdown",
   "id": "dfd0f30a-937a-4448-836b-39dd09394538",
   "metadata": {},
   "source": [
    "## Objective\n",
    "* Scrape medical abstracts from PUBmed.\n",
    "* Filter and label abstracts that mention the disease of interest (COVID-10 will be used as an exmaple).\n",
    "* Clean and preprocess the text data to ensure accuracy and usability.\n",
    "* Build and train a simple classification model to detect disease mention.\n",
    "* Evaluate the performance of the trained classifcation model.\n",
    "* Demonstrate that the pipeline is adaptable to other diseases."
   ]
  },
  {
   "cell_type": "markdown",
   "id": "8fe0f34d-e07f-4a48-89cb-60b04fdd98d6",
   "metadata": {},
   "source": [
    "## Dataset\n",
    "Source: \n",
    "* The dataset was collected from PubMed, a publicly accessible repository of biomedical literature.\n",
    "* Abstracts were retrieved using keyword-based queries focused on COVID-19 and general medical research.\n",
    "\n",
    "Strcture:\n",
    "* Each data point consists of a PUbMed abstract and a binary label: 1: Covid-19 mention, 0: COVID-19 not mentioned.\n",
    "* The final dataset contained 381 abstracts, with a significant class imbalance favoring non-COVID articles.\n",
    "* Due to the class imbalance, SMOTE (Synthetic Minority Oversampling Technique) was applied to the training data to balance the classes.\n",
    "\n",
    "Preprocessing:\n",
    "* Abstracts were: lowercased, tokenized, cleaned of punctuation and vectorized using TF-IDF.\n",
    "* Labels were manually assigned based on the presence of keywords."
   ]
  },
  {
   "cell_type": "markdown",
   "id": "6a8f322f-df4d-4755-b20c-b4e03a0be892",
   "metadata": {},
   "source": [
    "### Data Collection\n",
    "We start by scraping medical text data from PubMed using the `Bio.Entrez` module from the Biopython library to build our dataset for disease mention detection. After fetching the articles, we extract the abstract text from the XML-formatted responses using Python's built-in xml module. These abstracts form the basis of our dataset for this project."
   ]
  },
  {
   "cell_type": "code",
   "execution_count": 1,
   "id": "85ab90f8-9137-4a31-8ac3-28fef49fd8a3",
   "metadata": {},
   "outputs": [],
   "source": [
    "from Bio import Entrez\n",
    "import pandas as pd\n",
    "import xml.etree.ElementTree as ET\n",
    "\n",
    "Entrez.email = 'rmhirla@ucl.ac.uk'\n",
    "\n",
    "# Step 1: Search for articles\n",
    "terms = 'covid OR covid19 OR covid-19 OR sars-cov-2 OR sarscov2 OR coronavirus OR pandemic OR outbreak OR respiratory infection'\n",
    "handle = Entrez.esearch(db = 'pubmed', term = terms, retmax = 400)\n",
    "record = Entrez.read(handle)\n",
    "id_list = record['IdList']\n",
    "\n",
    "# Step 2: Fetch article data in XML format\n",
    "handle = Entrez.efetch(db = 'pubmed', id = id_list, rettype = 'xml', retmode = 'xml')\n",
    "xml_data = handle.read()\n",
    "\n",
    "# Step 3: Save data into an XML file\n",
    "with open('pubmed_data.xml', 'wb') as f:\n",
    "    f.write(xml_data)\n",
    "\n",
    "# Step 4: Extract the abstract texts from XML data\n",
    "tree = ET.parse('pubmed_data.xml')\n",
    "root = tree.getroot()\n",
    "\n",
    "abstracts = []\n",
    "for article in root.findall('.//PubmedArticle'):\n",
    "    abstract_texts = article.findall('.//AbstractText')\n",
    "    text = ' '.join([elem.text for elem in abstract_texts if elem.text])\n",
    "    abstracts.append(text)\n",
    "        \n",
    "# Step 5: Convert the list into a pandas dataframe\n",
    "df = pd.DataFrame(abstracts, columns = ['abstracts'])"
   ]
  },
  {
   "cell_type": "markdown",
   "id": "e4373880-f43c-429e-9d78-043053e425f9",
   "metadata": {},
   "source": [
    "### Data Cleaning"
   ]
  },
  {
   "cell_type": "code",
   "execution_count": 4,
   "id": "0d3b9398-b915-46e4-8989-ce49cad81f79",
   "metadata": {},
   "outputs": [],
   "source": [
    "import re\n",
    "\n",
    "# Remove duplicates\n",
    "df = df.drop_duplicates(subset = 'abstracts').reset_index(drop = True)\n",
    "\n",
    "# Clean data\n",
    "def clean_text(text):\n",
    "    text = text.lower()\n",
    "    text = re.sub(r'covid[\\s\\-]?19', 'covid19', text)\n",
    "    text = re.sub(r'sars[\\s\\-]?cov[\\s\\-]?2', 'sarscov2', text)\n",
    "    text = re.sub(r'[^\\w\\s]', ' ', text)\n",
    "    text = re.sub(r'\\s+', ' ', text)\n",
    "    return text\n",
    "\n",
    "df['abstracts_cleaned'] = df['abstracts'].apply(lambda x: clean_text(x))"
   ]
  },
  {
   "cell_type": "markdown",
   "id": "5c21a6d7-e6fe-46ca-98a3-de050563be3b",
   "metadata": {},
   "source": [
    "### Data Filtering and Labeling"
   ]
  },
  {
   "cell_type": "code",
   "execution_count": 5,
   "id": "7ef8f06d-737b-4f2b-ac35-0de7f583ed22",
   "metadata": {},
   "outputs": [],
   "source": [
    "keywords = ['coronavirus', 'covid19', 'sarscov2', 'covid']\n",
    "\n",
    "def auto_label(abstract, keyword):\n",
    "    abstract = str(abstract).lower()\n",
    "    return int(any(re.search(rf'\\b{kw}\\b', abstract, re.IGNORECASE) for kw in keyword))\n",
    "\n",
    "df['label'] = df['abstracts_cleaned'].apply(lambda x: auto_label(x, keywords))"
   ]
  },
  {
   "cell_type": "markdown",
   "id": "c38ab2d4-f5e0-4889-8e7c-3b2f21da082b",
   "metadata": {},
   "source": [
    "After labelling the data, we observed that a majority of the research articles extracted did not mention COVID-19, resulting in a highly imbalanced dataset. To address this, we have decided to oversample the minority class by applying SMOTE to the training data to help balance the dataset and improve the model's ability to egenralize to underrepresented cases."
   ]
  },
  {
   "cell_type": "markdown",
   "id": "571d2975-121f-45cf-bbab-42db91cd27e3",
   "metadata": {},
   "source": [
    "### Text Preprocessing"
   ]
  },
  {
   "cell_type": "code",
   "execution_count": 6,
   "id": "b5912bd6-7993-4645-a9ec-c66d25c3b42f",
   "metadata": {},
   "outputs": [],
   "source": [
    "from sklearn.feature_extraction.text import TfidfVectorizer\n",
    "\n",
    "custom_vocab = ['coronavirus', 'covid19', 'sarscov2', 'covid']\n",
    "\n",
    "vectorizer = TfidfVectorizer(vocabulary = custom_vocab)\n",
    "vectorized = vectorizer.fit_transform(df['abstracts_cleaned'])\n",
    "X = pd.DataFrame(vectorized.toarray(), columns = vectorizer.get_feature_names_out())"
   ]
  },
  {
   "cell_type": "markdown",
   "id": "8b831744-bf44-4ec4-97ef-cb4e00c09f50",
   "metadata": {},
   "source": [
    "### Oversample Minority Class with SMOTE"
   ]
  },
  {
   "cell_type": "code",
   "execution_count": 7,
   "id": "070a6c37-dedb-4e28-beb2-4c27166cf140",
   "metadata": {},
   "outputs": [],
   "source": [
    "from imblearn.over_sampling import SMOTE\n",
    "from sklearn.model_selection import train_test_split\n",
    "\n",
    "smote = SMOTE(random_state = 1)\n",
    "\n",
    "# Split data into train and test data\n",
    "y = df['label']\n",
    "X_train, X_test, y_train, y_test = train_test_split(X, y, test_size = 0.3, random_state = 1)\n",
    "\n",
    "# Apply SMOTE to training data only\n",
    "X_resampled, y_resampled = smote.fit_resample(X_train, y_train)"
   ]
  },
  {
   "cell_type": "markdown",
   "id": "57195a20-78c6-4b2c-ac07-6cae42a6193a",
   "metadata": {},
   "source": [
    "## Modelling"
   ]
  },
  {
   "cell_type": "code",
   "execution_count": 8,
   "id": "b99d087c-09ac-47a5-bf9e-5104cf369caa",
   "metadata": {},
   "outputs": [
    {
     "name": "stdout",
     "output_type": "stream",
     "text": [
      "Confusion Matrix:\n",
      "[[96  0]\n",
      " [ 3 16]]\n",
      "\n",
      "Classification Report:\n",
      "                          precision    recall  f1-score   support\n",
      "\n",
      "Did not mention COVID-19       0.97      1.00      0.98        96\n",
      "      Mentioned COVID-19       1.00      0.84      0.91        19\n",
      "\n",
      "                accuracy                           0.97       115\n",
      "               macro avg       0.98      0.92      0.95       115\n",
      "            weighted avg       0.97      0.97      0.97       115\n",
      "\n",
      "\n",
      "ROC-AUC Score: 1.0\n"
     ]
    }
   ],
   "source": [
    "from sklearn.linear_model import LogisticRegression\n",
    "from sklearn.metrics import confusion_matrix, classification_report, roc_auc_score\n",
    "from sklearn.model_selection import train_test_split\n",
    "\n",
    "model = LogisticRegression(random_state = 1)\n",
    "model.fit(X_resampled, y_resampled)\n",
    "\n",
    "y_pred = model.predict(X_test)\n",
    "pred_prob = model.predict_proba(X_test)[:,1]\n",
    "\n",
    "# Confusion matrix\n",
    "print(f'Confusion Matrix:\\n{confusion_matrix(y_test, y_pred)}\\n')\n",
    "\n",
    "# Classification report\n",
    "target_names = ['Did not mention COVID-19', 'Mentioned COVID-19']\n",
    "print(f'Classification Report:\\n{classification_report(y_test, y_pred, target_names = target_names)}\\n')\n",
    "\n",
    "# ROC-AUC Score\n",
    "print(f'ROC-AUC Score: {roc_auc_score(y_pred, pred_prob)}')"
   ]
  },
  {
   "cell_type": "markdown",
   "id": "bd47c52b-f32e-4b29-a057-fc0ce7f3b6eb",
   "metadata": {},
   "source": [
    "## Results:\n",
    "* Confusion matrix: The model correctly identified 96 abstracts that mentioned COVID-19 (True Positives) and made no incorrect positive predictions (False Positives = 0). It missed 3 actual COVID-19 mentioned (False Negatives) and correctly classfied 16 articles as not mentioning COVID-10 (True Negatives).\n",
    "* Precision: Everytime the model predicted COVID-19 mention, it was correct. (100%)\n",
    "* Recall: The model successfully identified 84% of all actual COVID-19 mentions, though a few were missed.\n",
    "* F1 Score: (0.91) The F1 score reflects a strong balance between precision and recall.\n",
    "* ROC-AUC: The model demonstrated excellent discriminatory power, being able to perfecting identify COVID-19 mentioned from non-mentions. (100%)\n",
    "\n",
    "Overall, this model achieved an ROC_AUC of 1.0, suggesting strong predictive ability."
   ]
  },
  {
   "cell_type": "markdown",
   "id": "b19a8b8c-ee5e-470b-956a-46ec353b56a6",
   "metadata": {},
   "source": [
    "## Key Insights\n",
    "* The logistic regression model achieved an accuracy of 97% and a a perfecr ROC-AUC score of 1.0, indicating exceptional performance in distinguishing abstracts that mention COVID-19.\n",
    "* The 100% precision suggests that the model is reliable when predicting positive cases.\n",
    "* The 84% recall suggests that the model has strong sensitivity, though a few COVID-19 mentioned were missed.\n",
    "\n",
    "These results validate the effectiveness of the current model."
   ]
  },
  {
   "cell_type": "markdown",
   "id": "d1bad646-6f95-4a37-adaf-02e9469bbdec",
   "metadata": {},
   "source": [
    "## Next Steps\n",
    "\n",
    "* Upgrade to BERT/BioBERT to enhance semantic understanding and classification performance by incoporating contextual embeddings.\n",
    "* Extend the current model to other diseases (e.g. dengue) to evaluate the model's ability to adapt and generalize across different medical contexts."
   ]
  },
  {
   "cell_type": "markdown",
   "id": "f3e24bfd-446c-48f0-bef5-be784bfd7907",
   "metadata": {},
   "source": [
    "## Conclusion\n",
    "* Abstracts from medical research articles were scraped from Pubmed and parsed for analysis.\n",
    "* Data was labelled, filtered and preprocessed for model training.\n",
    "* To address class imbalance, SMOTE was applied to oversample the minority class in the training data.\n",
    "* A logistic regression model was trained and evaluated to detect COVID-19 mentions, demonstrating exceptional predictive performance in detecting COVID-19 mentiond in medical abstracts."
   ]
  }
 ],
 "metadata": {
  "kernelspec": {
   "display_name": "Python [conda env:base] *",
   "language": "python",
   "name": "conda-base-py"
  },
  "language_info": {
   "codemirror_mode": {
    "name": "ipython",
    "version": 3
   },
   "file_extension": ".py",
   "mimetype": "text/x-python",
   "name": "python",
   "nbconvert_exporter": "python",
   "pygments_lexer": "ipython3",
   "version": "3.13.5"
  }
 },
 "nbformat": 4,
 "nbformat_minor": 5
}
